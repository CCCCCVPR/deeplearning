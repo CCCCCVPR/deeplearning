{
 "cells": [
  {
   "cell_type": "code",
   "execution_count": 1,
   "metadata": {
    "collapsed": false
   },
   "outputs": [
    {
     "name": "stderr",
     "output_type": "stream",
     "text": [
      "C:\\Program Files\\Anaconda3\\envs\\venv\\lib\\site-packages\\sklearn\\cross_validation.py:41: DeprecationWarning: This module was deprecated in version 0.18 in favor of the model_selection module into which all the refactored classes and functions are moved. Also note that the interface of the new CV iterators are different from that of this module. This module will be removed in 0.20.\n",
      "  \"This module will be removed in 0.20.\", DeprecationWarning)\n",
      "Using TensorFlow backend.\n"
     ]
    }
   ],
   "source": [
    "import numpy as np\n",
    "import os\n",
    "from sklearn.cross_validation import train_test_split\n",
    "from PIL import Image\n",
    "from keras.models import Sequential\n",
    "from keras.layers.core import Dense, Dropout, Activation, Flatten, Reshape\n",
    "from keras.optimizers import RMSprop\n",
    "from keras import backend as K\n",
    "from keras.layers.convolutional import Convolution2D, MaxPooling2D, ZeroPadding2D, Conv2D\n",
    "from keras.utils import plot_model\n",
    "from keras.models import load_model, model_from_json"
   ]
  },
  {
   "cell_type": "code",
   "execution_count": 2,
   "metadata": {
    "collapsed": true
   },
   "outputs": [],
   "source": [
    "batch_size = 128\n",
    "num_classes = 10\n",
    "epochs = 20\n",
    "img_rows, img_cols = 28, 28"
   ]
  },
  {
   "cell_type": "code",
   "execution_count": 3,
   "metadata": {
    "collapsed": true
   },
   "outputs": [],
   "source": [
    "# reference : http://enakai00.hatenablog.com/entry/2016/08/02/102917\n",
    "class NotMNIST:\n",
    "    def __init__(self):\n",
    "        images, labels = [], []\n",
    "\n",
    "        for i, letter in enumerate(['A', 'B', 'C', 'D', 'E', 'F', 'G', 'H', 'I', 'J']):\n",
    "\n",
    "            directory = 'C://Users/Choi Seung Yeon/Desktop/2017-2 project/sc/notMNIST_small/%s/' % letter\n",
    "\n",
    "            files = os.listdir(directory)\n",
    "            label = np.array([0] * 10)\n",
    "            label[i] = 1\n",
    "            for file in files:\n",
    "                try:\n",
    "                    im = Image.open(directory + file)\n",
    "                except:\n",
    "                    print\n",
    "                    \"Skip a corrupted file: \" + file\n",
    "                    continue\n",
    "                pixels = np.array(im.convert('L').getdata())\n",
    "                images.append(pixels / 255.0)\n",
    "                labels.append(label)\n",
    "\n",
    "        train_images, test_images, train_labels, test_labels = \\\n",
    "            train_test_split(images, labels, test_size=0.2, random_state=0)\n",
    "\n",
    "        class train:\n",
    "            def __init__(self):\n",
    "                self.images = []\n",
    "                self.labels = []\n",
    "                self.batch_counter = 0\n",
    "\n",
    "            def next_batch(self, num):\n",
    "                if self.batch_counter + num >= len(self.labels):\n",
    "                    batch_images = self.images[self.batch_counter:]\n",
    "                    batch_labels = self.labels[self.batch_counter:]\n",
    "                    left = num - len(batch_labels)\n",
    "                    batch_images.extend(self.images[:left])\n",
    "                    batch_labels.extend(self.labels[:left])\n",
    "                    self.batch_counter = left\n",
    "                else:\n",
    "                    batch_images = self.images[self.batch_counter:self.batch_counter + num]\n",
    "                    batch_labels = self.labels[self.batch_counter:self.batch_counter + num]\n",
    "                    self.batch_counter += num\n",
    "\n",
    "                return (batch_images, batch_labels)\n",
    "\n",
    "        class test:\n",
    "            def __init__(self):\n",
    "                self.images = []\n",
    "                self.labels = []\n",
    "\n",
    "        self.train = train()\n",
    "        self.test = test()\n",
    "\n",
    "        self.train.images = train_images\n",
    "        self.train.labels = train_labels\n",
    "        self.test.images = test_images\n",
    "        self.test.labels = test_labels"
   ]
  },
  {
   "cell_type": "code",
   "execution_count": 4,
   "metadata": {
    "collapsed": true
   },
   "outputs": [],
   "source": [
    "mnist = NotMNIST()\n",
    "\n",
    "x_train = np.array(mnist.train.images)\n",
    "y_train = np.array(mnist.train.labels)\n",
    "x_test = np.array(mnist.test.images)\n",
    "y_test = np.array(mnist.test.labels)\n",
    "\n",
    "if K.image_data_format() == 'channels_first':\n",
    "    x_train = x_train.reshape(x_train.shape[0], 1, img_rows, img_cols)\n",
    "    x_test = x_test.reshape(x_test.shape[0], 1, img_rows, img_cols)\n",
    "    input_shape = (1, img_rows, img_cols)\n",
    "else:\n",
    "    x_train = x_train.reshape(x_train.shape[0], img_rows, img_cols, 1)\n",
    "    x_test = x_test.reshape(x_test.shape[0], img_rows, img_cols, 1)\n",
    "    input_shape = (img_rows, img_cols, 1)   \n"
   ]
  },
  {
   "cell_type": "code",
   "execution_count": 5,
   "metadata": {
    "collapsed": false
   },
   "outputs": [
    {
     "name": "stdout",
     "output_type": "stream",
     "text": [
      "_________________________________________________________________\n",
      "Layer (type)                 Output Shape              Param #   \n",
      "=================================================================\n",
      "reshape_1 (Reshape)          (None, 784)               0         \n",
      "_________________________________________________________________\n",
      "hidden (Dense)               (None, 128)               100480    \n",
      "_________________________________________________________________\n",
      "ReLU (Activation)            (None, 128)               0         \n",
      "_________________________________________________________________\n",
      "output (Dense)               (None, 10)                1290      \n",
      "_________________________________________________________________\n",
      "softmax (Activation)         (None, 10)                0         \n",
      "=================================================================\n",
      "Total params: 101,770\n",
      "Trainable params: 101,770\n",
      "Non-trainable params: 0\n",
      "_________________________________________________________________\n"
     ]
    }
   ],
   "source": [
    "# ALEXNET\n",
    "model = Sequential()\n",
    "model.add(Reshape(input_shape=input_shape, target_shape=(784, )))\n",
    "model.add(Dense(128, name=\"hidden\"))\n",
    "model.add(Activation('relu', name=\"ReLU\"))\n",
    "model.add(Dense(10, name=\"output\"))\n",
    "model.add(Activation('softmax', name=\"softmax\"))\n",
    "\n",
    "model.summary()"
   ]
  },
  {
   "cell_type": "code",
   "execution_count": 6,
   "metadata": {
    "collapsed": true
   },
   "outputs": [],
   "source": [
    "model.compile(loss='binary_crossentropy',\n",
    "              optimizer=RMSprop(),\n",
    "              metrics=['accuracy'])"
   ]
  },
  {
   "cell_type": "code",
   "execution_count": 7,
   "metadata": {
    "collapsed": false
   },
   "outputs": [],
   "source": [
    "# 1. TensorBoardコールバックを作成する\n",
    "from keras.callbacks import TensorBoard\n",
    "tbcb = TensorBoard(log_dir='./graph',\n",
    "                   histogram_freq=0, write_graph=True)"
   ]
  },
  {
   "cell_type": "code",
   "execution_count": 8,
   "metadata": {
    "collapsed": false
   },
   "outputs": [
    {
     "name": "stdout",
     "output_type": "stream",
     "text": [
      "Train on 14979 samples, validate on 3745 samples\n",
      "Epoch 1/20\n",
      "14979/14979 [==============================] - 0s - loss: 0.0991 - acc: 0.9685 - val_loss: 0.0592 - val_acc: 0.9813\n",
      "Epoch 2/20\n",
      "14979/14979 [==============================] - 0s - loss: 0.0611 - acc: 0.9808 - val_loss: 0.0663 - val_acc: 0.9786\n",
      "Epoch 3/20\n",
      "14979/14979 [==============================] - 0s - loss: 0.0522 - acc: 0.9834 - val_loss: 0.0631 - val_acc: 0.9790\n",
      "Epoch 4/20\n",
      "14979/14979 [==============================] - 0s - loss: 0.0467 - acc: 0.9848 - val_loss: 0.0451 - val_acc: 0.9856\n",
      "Epoch 5/20\n",
      "14979/14979 [==============================] - 0s - loss: 0.0423 - acc: 0.9863 - val_loss: 0.0576 - val_acc: 0.9819\n",
      "Epoch 6/20\n",
      "14979/14979 [==============================] - 0s - loss: 0.0386 - acc: 0.9876 - val_loss: 0.0449 - val_acc: 0.9856\n",
      "Epoch 7/20\n",
      "14979/14979 [==============================] - 0s - loss: 0.0353 - acc: 0.9886 - val_loss: 0.0427 - val_acc: 0.9865\n",
      "Epoch 8/20\n",
      "14979/14979 [==============================] - 0s - loss: 0.0322 - acc: 0.9897 - val_loss: 0.0419 - val_acc: 0.9863\n",
      "Epoch 9/20\n",
      "14979/14979 [==============================] - 0s - loss: 0.0296 - acc: 0.9905 - val_loss: 0.0476 - val_acc: 0.9857\n",
      "Epoch 10/20\n",
      "14979/14979 [==============================] - 0s - loss: 0.0272 - acc: 0.9912 - val_loss: 0.0422 - val_acc: 0.9866\n",
      "Epoch 11/20\n",
      "14979/14979 [==============================] - 0s - loss: 0.0250 - acc: 0.9922 - val_loss: 0.0416 - val_acc: 0.9874\n",
      "Epoch 12/20\n",
      "14979/14979 [==============================] - 0s - loss: 0.0228 - acc: 0.9929 - val_loss: 0.0458 - val_acc: 0.9856\n",
      "Epoch 13/20\n",
      "14979/14979 [==============================] - 0s - loss: 0.0209 - acc: 0.9936 - val_loss: 0.0421 - val_acc: 0.9870\n",
      "Epoch 14/20\n",
      "14979/14979 [==============================] - 0s - loss: 0.0197 - acc: 0.9937 - val_loss: 0.0427 - val_acc: 0.9865\n",
      "Epoch 15/20\n",
      "14979/14979 [==============================] - 0s - loss: 0.0179 - acc: 0.9945 - val_loss: 0.0412 - val_acc: 0.9875\n",
      "Epoch 16/20\n",
      "14979/14979 [==============================] - 0s - loss: 0.0164 - acc: 0.9949 - val_loss: 0.0432 - val_acc: 0.9862\n",
      "Epoch 17/20\n",
      "14979/14979 [==============================] - 0s - loss: 0.0150 - acc: 0.9955 - val_loss: 0.0443 - val_acc: 0.9867\n",
      "Epoch 18/20\n",
      "14979/14979 [==============================] - 0s - loss: 0.0136 - acc: 0.9959 - val_loss: 0.0509 - val_acc: 0.9851\n",
      "Epoch 19/20\n",
      "14979/14979 [==============================] - 0s - loss: 0.0127 - acc: 0.9963 - val_loss: 0.0434 - val_acc: 0.9873\n",
      "Epoch 20/20\n",
      "14979/14979 [==============================] - 0s - loss: 0.0116 - acc: 0.9967 - val_loss: 0.0471 - val_acc: 0.9864\n"
     ]
    }
   ],
   "source": [
    "history = model.fit(x_train, y_train,\n",
    "                    batch_size=batch_size,\n",
    "                    epochs=epochs,\n",
    "                    verbose=1,\n",
    "                    validation_data=(x_test, y_test))"
   ]
  },
  {
   "cell_type": "code",
   "execution_count": 9,
   "metadata": {
    "collapsed": true
   },
   "outputs": [],
   "source": [
    "import pickle\n",
    "\n",
    "# Model history save\n",
    "with open(\"history.pickle\", mode='wb') as f:\n",
    "    pickle.dump(history.history, f)"
   ]
  },
  {
   "cell_type": "code",
   "execution_count": 10,
   "metadata": {
    "collapsed": false
   },
   "outputs": [
    {
     "name": "stdout",
     "output_type": "stream",
     "text": [
      "acc: 98.64%\n"
     ]
    }
   ],
   "source": [
    "# evaluate the model\n",
    "scores = model.evaluate(x_test, y_test, verbose=0)\n",
    "print(\"%s: %.2f%%\" % (model.metrics_names[1], scores[1]*100))"
   ]
  },
  {
   "cell_type": "code",
   "execution_count": 11,
   "metadata": {
    "collapsed": false
   },
   "outputs": [
    {
     "name": "stdout",
     "output_type": "stream",
     "text": [
      "Saved model to disk\n"
     ]
    }
   ],
   "source": [
    "# serialize model to JSON\n",
    "model_json = model.to_json()\n",
    "with open(\"model.json\", \"w\") as json_file:\n",
    "    json_file.write(model_json)\n",
    "# serialize weights to HDF5\n",
    "model.save_weights(\"model.h5\")\n",
    "print(\"Saved model to disk\")"
   ]
  },
  {
   "cell_type": "code",
   "execution_count": 12,
   "metadata": {
    "collapsed": false
   },
   "outputs": [
    {
     "name": "stdout",
     "output_type": "stream",
     "text": [
      "Loaded model from disk\n"
     ]
    }
   ],
   "source": [
    "# load json and create model\n",
    "json_file = open('model.json', 'r')\n",
    "loaded_model_json = json_file.read()\n",
    "json_file.close()\n",
    "loaded_model = model_from_json(loaded_model_json)\n",
    "# load weights into new model\n",
    "loaded_model.load_weights(\"model.h5\")\n",
    "print(\"Loaded model from disk\")"
   ]
  },
  {
   "cell_type": "code",
   "execution_count": 13,
   "metadata": {
    "collapsed": false
   },
   "outputs": [
    {
     "name": "stdout",
     "output_type": "stream",
     "text": [
      "acc: 98.64%\n"
     ]
    }
   ],
   "source": [
    "# evaluate loaded model on test data\n",
    "loaded_model.compile(loss='binary_crossentropy', optimizer='rmsprop', metrics=['accuracy'])\n",
    "score = loaded_model.evaluate(x_test, y_test, verbose=0)\n",
    "print(\"%s: %.2f%%\" % (loaded_model.metrics_names[1], score[1]*100))"
   ]
  },
  {
   "cell_type": "code",
   "execution_count": 14,
   "metadata": {
    "collapsed": false
   },
   "outputs": [
    {
     "data": {
      "image/png": "[encoded data removed]",
      "text/plain": [
       "<matplotlib.figure.Figure at 0x2c3a4a006a0>"
      ]
     },
     "metadata": {},
     "output_type": "display_data"
    }
   ],
   "source": [
    "import pickle\n",
    "import matplotlib.pyplot as plt\n",
    "\n",
    "# Model history load\n",
    "history = None\n",
    "with open('history.pickle', mode='rb') as f:\n",
    "    history = pickle.load(f)\n",
    "\n",
    "plt.plot(history['loss'],\"o-\",label=\"loss\",)\n",
    "plt.plot(history['val_loss'],\"o-\",label=\"val_loss\")\n",
    "plt.plot(history['acc'],\"o-\",label=\"acc\",)\n",
    "plt.plot(history['val_acc'],\"o-\",label=\"val_acc\")\n",
    "plt.title('train result')\n",
    "plt.xlabel('epoch')\n",
    "plt.ylabel('loss')\n",
    "plt.legend(loc='center right')\n",
    "plt.show()"
   ]
  },
  {
   "cell_type": "code",
   "execution_count": 16,
   "metadata": {
    "collapsed": false
   },
   "outputs": [
    {
     "data": {
      "image/svg+xml": [
       "<svg height=\"470pt\" viewBox=\"0.00 0.00 352.00 470.00\" width=\"352pt\" xmlns=\"http://www.w3.org/2000/svg\" xmlns:xlink=\"http://www.w3.org/1999/xlink\">\n",
       "<g class=\"graph\" id=\"graph0\" transform=\"scale(1 1) rotate(0) translate(4 466)\">\n",
       "<title>G</title>\n",
       "<polygon fill=\"white\" points=\"-4,4 -4,-466 348,-466 348,4 -4,4\" stroke=\"none\"/>\n",
       "<!-- 3039008231552 -->\n",
       "<g class=\"node\" id=\"node1\"><title>3039008231552</title>\n",
       "<polygon fill=\"none\" points=\"0,-415.5 0,-461.5 344,-461.5 344,-415.5 0,-415.5\" stroke=\"black\"/>\n",
       "<text font-family=\"Times New Roman,serif\" font-size=\"14.00\" text-anchor=\"middle\" x=\"88\" y=\"-434.8\">reshape_1_input: InputLayer</text>\n",
       "<polyline fill=\"none\" points=\"176,-415.5 176,-461.5 \" stroke=\"black\"/>\n",
       "<text font-family=\"Times New Roman,serif\" font-size=\"14.00\" text-anchor=\"middle\" x=\"204\" y=\"-446.3\">input:</text>\n",
       "<polyline fill=\"none\" points=\"176,-438.5 232,-438.5 \" stroke=\"black\"/>\n",
       "<text font-family=\"Times New Roman,serif\" font-size=\"14.00\" text-anchor=\"middle\" x=\"204\" y=\"-423.3\">output:</text>\n",
       "<polyline fill=\"none\" points=\"232,-415.5 232,-461.5 \" stroke=\"black\"/>\n",
       "<text font-family=\"Times New Roman,serif\" font-size=\"14.00\" text-anchor=\"middle\" x=\"288\" y=\"-446.3\">(None, 28, 28, 1)</text>\n",
       "<polyline fill=\"none\" points=\"232,-438.5 344,-438.5 \" stroke=\"black\"/>\n",
       "<text font-family=\"Times New Roman,serif\" font-size=\"14.00\" text-anchor=\"middle\" x=\"288\" y=\"-423.3\">(None, 28, 28, 1)</text>\n",
       "</g>\n",
       "<!-- 3039008234016 -->\n",
       "<g class=\"node\" id=\"node2\"><title>3039008234016</title>\n",
       "<polygon fill=\"none\" points=\"24,-332.5 24,-378.5 320,-378.5 320,-332.5 24,-332.5\" stroke=\"black\"/>\n",
       "<text font-family=\"Times New Roman,serif\" font-size=\"14.00\" text-anchor=\"middle\" x=\"88\" y=\"-351.8\">reshape_1: Reshape</text>\n",
       "<polyline fill=\"none\" points=\"152,-332.5 152,-378.5 \" stroke=\"black\"/>\n",
       "<text font-family=\"Times New Roman,serif\" font-size=\"14.00\" text-anchor=\"middle\" x=\"180\" y=\"-363.3\">input:</text>\n",
       "<polyline fill=\"none\" points=\"152,-355.5 208,-355.5 \" stroke=\"black\"/>\n",
       "<text font-family=\"Times New Roman,serif\" font-size=\"14.00\" text-anchor=\"middle\" x=\"180\" y=\"-340.3\">output:</text>\n",
       "<polyline fill=\"none\" points=\"208,-332.5 208,-378.5 \" stroke=\"black\"/>\n",
       "<text font-family=\"Times New Roman,serif\" font-size=\"14.00\" text-anchor=\"middle\" x=\"264\" y=\"-363.3\">(None, 28, 28, 1)</text>\n",
       "<polyline fill=\"none\" points=\"208,-355.5 320,-355.5 \" stroke=\"black\"/>\n",
       "<text font-family=\"Times New Roman,serif\" font-size=\"14.00\" text-anchor=\"middle\" x=\"264\" y=\"-340.3\">(None, 784)</text>\n",
       "</g>\n",
       "<!-- 3039008231552&#45;&gt;3039008234016 -->\n",
       "<g class=\"edge\" id=\"edge1\"><title>3039008231552-&gt;3039008234016</title>\n",
       "<path d=\"M172,-415.366C172,-407.152 172,-397.658 172,-388.725\" fill=\"none\" stroke=\"black\"/>\n",
       "<polygon fill=\"black\" points=\"175.5,-388.607 172,-378.607 168.5,-388.607 175.5,-388.607\" stroke=\"black\"/>\n",
       "</g>\n",
       "<!-- 3039008234408 -->\n",
       "<g class=\"node\" id=\"node3\"><title>3039008234408</title>\n",
       "<polygon fill=\"none\" points=\"55,-249.5 55,-295.5 289,-295.5 289,-249.5 55,-249.5\" stroke=\"black\"/>\n",
       "<text font-family=\"Times New Roman,serif\" font-size=\"14.00\" text-anchor=\"middle\" x=\"102.5\" y=\"-268.8\">hidden: Dense</text>\n",
       "<polyline fill=\"none\" points=\"150,-249.5 150,-295.5 \" stroke=\"black\"/>\n",
       "<text font-family=\"Times New Roman,serif\" font-size=\"14.00\" text-anchor=\"middle\" x=\"178\" y=\"-280.3\">input:</text>\n",
       "<polyline fill=\"none\" points=\"150,-272.5 206,-272.5 \" stroke=\"black\"/>\n",
       "<text font-family=\"Times New Roman,serif\" font-size=\"14.00\" text-anchor=\"middle\" x=\"178\" y=\"-257.3\">output:</text>\n",
       "<polyline fill=\"none\" points=\"206,-249.5 206,-295.5 \" stroke=\"black\"/>\n",
       "<text font-family=\"Times New Roman,serif\" font-size=\"14.00\" text-anchor=\"middle\" x=\"247.5\" y=\"-280.3\">(None, 784)</text>\n",
       "<polyline fill=\"none\" points=\"206,-272.5 289,-272.5 \" stroke=\"black\"/>\n",
       "<text font-family=\"Times New Roman,serif\" font-size=\"14.00\" text-anchor=\"middle\" x=\"247.5\" y=\"-257.3\">(None, 128)</text>\n",
       "</g>\n",
       "<!-- 3039008234016&#45;&gt;3039008234408 -->\n",
       "<g class=\"edge\" id=\"edge2\"><title>3039008234016-&gt;3039008234408</title>\n",
       "<path d=\"M172,-332.366C172,-324.152 172,-314.658 172,-305.725\" fill=\"none\" stroke=\"black\"/>\n",
       "<polygon fill=\"black\" points=\"175.5,-305.607 172,-295.607 168.5,-305.607 175.5,-305.607\" stroke=\"black\"/>\n",
       "</g>\n",
       "<!-- 3039008202088 -->\n",
       "<g class=\"node\" id=\"node4\"><title>3039008202088</title>\n",
       "<polygon fill=\"none\" points=\"45.5,-166.5 45.5,-212.5 298.5,-212.5 298.5,-166.5 45.5,-166.5\" stroke=\"black\"/>\n",
       "<text font-family=\"Times New Roman,serif\" font-size=\"14.00\" text-anchor=\"middle\" x=\"102.5\" y=\"-185.8\">ReLU: Activation</text>\n",
       "<polyline fill=\"none\" points=\"159.5,-166.5 159.5,-212.5 \" stroke=\"black\"/>\n",
       "<text font-family=\"Times New Roman,serif\" font-size=\"14.00\" text-anchor=\"middle\" x=\"187.5\" y=\"-197.3\">input:</text>\n",
       "<polyline fill=\"none\" points=\"159.5,-189.5 215.5,-189.5 \" stroke=\"black\"/>\n",
       "<text font-family=\"Times New Roman,serif\" font-size=\"14.00\" text-anchor=\"middle\" x=\"187.5\" y=\"-174.3\">output:</text>\n",
       "<polyline fill=\"none\" points=\"215.5,-166.5 215.5,-212.5 \" stroke=\"black\"/>\n",
       "<text font-family=\"Times New Roman,serif\" font-size=\"14.00\" text-anchor=\"middle\" x=\"257\" y=\"-197.3\">(None, 128)</text>\n",
       "<polyline fill=\"none\" points=\"215.5,-189.5 298.5,-189.5 \" stroke=\"black\"/>\n",
       "<text font-family=\"Times New Roman,serif\" font-size=\"14.00\" text-anchor=\"middle\" x=\"257\" y=\"-174.3\">(None, 128)</text>\n",
       "</g>\n",
       "<!-- 3039008234408&#45;&gt;3039008202088 -->\n",
       "<g class=\"edge\" id=\"edge3\"><title>3039008234408-&gt;3039008202088</title>\n",
       "<path d=\"M172,-249.366C172,-241.152 172,-231.658 172,-222.725\" fill=\"none\" stroke=\"black\"/>\n",
       "<polygon fill=\"black\" points=\"175.5,-222.607 172,-212.607 168.5,-222.607 175.5,-222.607\" stroke=\"black\"/>\n",
       "</g>\n",
       "<!-- 3039008232280 -->\n",
       "<g class=\"node\" id=\"node5\"><title>3039008232280</title>\n",
       "<polygon fill=\"none\" points=\"55.5,-83.5 55.5,-129.5 288.5,-129.5 288.5,-83.5 55.5,-83.5\" stroke=\"black\"/>\n",
       "<text font-family=\"Times New Roman,serif\" font-size=\"14.00\" text-anchor=\"middle\" x=\"102.5\" y=\"-102.8\">output: Dense</text>\n",
       "<polyline fill=\"none\" points=\"149.5,-83.5 149.5,-129.5 \" stroke=\"black\"/>\n",
       "<text font-family=\"Times New Roman,serif\" font-size=\"14.00\" text-anchor=\"middle\" x=\"177.5\" y=\"-114.3\">input:</text>\n",
       "<polyline fill=\"none\" points=\"149.5,-106.5 205.5,-106.5 \" stroke=\"black\"/>\n",
       "<text font-family=\"Times New Roman,serif\" font-size=\"14.00\" text-anchor=\"middle\" x=\"177.5\" y=\"-91.3\">output:</text>\n",
       "<polyline fill=\"none\" points=\"205.5,-83.5 205.5,-129.5 \" stroke=\"black\"/>\n",
       "<text font-family=\"Times New Roman,serif\" font-size=\"14.00\" text-anchor=\"middle\" x=\"247\" y=\"-114.3\">(None, 128)</text>\n",
       "<polyline fill=\"none\" points=\"205.5,-106.5 288.5,-106.5 \" stroke=\"black\"/>\n",
       "<text font-family=\"Times New Roman,serif\" font-size=\"14.00\" text-anchor=\"middle\" x=\"247\" y=\"-91.3\">(None, 10)</text>\n",
       "</g>\n",
       "<!-- 3039008202088&#45;&gt;3039008232280 -->\n",
       "<g class=\"edge\" id=\"edge4\"><title>3039008202088-&gt;3039008232280</title>\n",
       "<path d=\"M172,-166.366C172,-158.152 172,-148.658 172,-139.725\" fill=\"none\" stroke=\"black\"/>\n",
       "<polygon fill=\"black\" points=\"175.5,-139.607 172,-129.607 168.5,-139.607 175.5,-139.607\" stroke=\"black\"/>\n",
       "</g>\n",
       "<!-- 3039008232728 -->\n",
       "<g class=\"node\" id=\"node6\"><title>3039008232728</title>\n",
       "<polygon fill=\"none\" points=\"43,-0.5 43,-46.5 301,-46.5 301,-0.5 43,-0.5\" stroke=\"black\"/>\n",
       "<text font-family=\"Times New Roman,serif\" font-size=\"14.00\" text-anchor=\"middle\" x=\"105.5\" y=\"-19.8\">softmax: Activation</text>\n",
       "<polyline fill=\"none\" points=\"168,-0.5 168,-46.5 \" stroke=\"black\"/>\n",
       "<text font-family=\"Times New Roman,serif\" font-size=\"14.00\" text-anchor=\"middle\" x=\"196\" y=\"-31.3\">input:</text>\n",
       "<polyline fill=\"none\" points=\"168,-23.5 224,-23.5 \" stroke=\"black\"/>\n",
       "<text font-family=\"Times New Roman,serif\" font-size=\"14.00\" text-anchor=\"middle\" x=\"196\" y=\"-8.3\">output:</text>\n",
       "<polyline fill=\"none\" points=\"224,-0.5 224,-46.5 \" stroke=\"black\"/>\n",
       "<text font-family=\"Times New Roman,serif\" font-size=\"14.00\" text-anchor=\"middle\" x=\"262.5\" y=\"-31.3\">(None, 10)</text>\n",
       "<polyline fill=\"none\" points=\"224,-23.5 301,-23.5 \" stroke=\"black\"/>\n",
       "<text font-family=\"Times New Roman,serif\" font-size=\"14.00\" text-anchor=\"middle\" x=\"262.5\" y=\"-8.3\">(None, 10)</text>\n",
       "</g>\n",
       "<!-- 3039008232280&#45;&gt;3039008232728 -->\n",
       "<g class=\"edge\" id=\"edge5\"><title>3039008232280-&gt;3039008232728</title>\n",
       "<path d=\"M172,-83.3664C172,-75.1516 172,-65.6579 172,-56.7252\" fill=\"none\" stroke=\"black\"/>\n",
       "<polygon fill=\"black\" points=\"175.5,-56.6068 172,-46.6068 168.5,-56.6069 175.5,-56.6068\" stroke=\"black\"/>\n",
       "</g>\n",
       "</g>\n",
       "</svg>"
      ],
      "text/plain": [
       "<IPython.core.display.SVG object>"
      ]
     },
     "execution_count": 16,
     "metadata": {},
     "output_type": "execute_result"
    }
   ],
   "source": [
    "#Visualation\n",
    "from IPython.display import SVG\n",
    "from keras.utils.vis_utils import model_to_dot\n",
    "\n",
    "%matplotlib inline\n",
    "\n",
    "SVG(model_to_dot(model, show_shapes=True).create(prog='dot', format='svg'))"
   ]
  }
 ],
 "metadata": {
  "anaconda-cloud": {},
  "kernelspec": {
   "display_name": "Python [conda env:venv]",
   "language": "python",
   "name": "conda-env-venv-py"
  },
  "language_info": {
   "codemirror_mode": {
    "name": "ipython",
    "version": 3
   },
   "file_extension": ".py",
   "mimetype": "text/x-python",
   "name": "python",
   "nbconvert_exporter": "python",
   "pygments_lexer": "ipython3",
   "version": "3.5.3"
  }
 },
 "nbformat": 4,
 "nbformat_minor": 1
}
