{
 "cells": [
  {
   "cell_type": "code",
   "execution_count": 1,
   "metadata": {
    "collapsed": false
   },
   "outputs": [
    {
     "name": "stderr",
     "output_type": "stream",
     "text": [
      "Using TensorFlow backend.\n",
      "C:\\Program Files\\Anaconda3\\envs\\venv\\lib\\site-packages\\sklearn\\cross_validation.py:41: DeprecationWarning: This module was deprecated in version 0.18 in favor of the model_selection module into which all the refactored classes and functions are moved. Also note that the interface of the new CV iterators are different from that of this module. This module will be removed in 0.20.\n",
      "  \"This module will be removed in 0.20.\", DeprecationWarning)\n"
     ]
    }
   ],
   "source": [
    "import numpy as np\n",
    "import matplotlib.pyplot as plt\n",
    "from scipy.stats import norm\n",
    "from keras.layers import Input, Dense, Lambda, Flatten, Reshape, Layer\n",
    "from keras.layers import Conv2D, Conv2DTranspose\n",
    "from keras.models import Model\n",
    "from keras import backend as K\n",
    "from keras import metrics\n",
    "from matplotlib.colors import ListedColormap\n",
    "from sklearn.preprocessing import StandardScaler\n",
    "from sklearn.datasets import make_moons, make_circles, make_classification\n",
    "from sklearn.neighbors import KNeighborsClassifier\n",
    "from sklearn.svm import SVC\n",
    "from sklearn.tree import DecisionTreeClassifier\n",
    "from sklearn.ensemble import RandomForestClassifier, AdaBoostClassifier\n",
    "from sklearn.naive_bayes import GaussianNB\n",
    "from keras.utils import np_utils\n",
    "from keras.models import Sequential\n",
    "from keras.layers import Merge, TimeDistributed, LSTM, RepeatVector\n",
    "from keras.layers.core import Dense, Dropout, Activation, Flatten, Reshape\n",
    "from keras.layers.convolutional import Convolution1D, MaxPooling1D, Convolution2D, MaxPooling2D, ZeroPadding1D, Convolution3D, MaxPooling3D, AveragePooling3D\n",
    "from keras.optimizers import SGD, Adadelta\n",
    "from keras.callbacks import EarlyStopping\n",
    "from keras.layers import Input, merge, UpSampling3D\n",
    "from keras.models import Model\n",
    "from keras import backend as K\n",
    "from keras import objectives\n",
    "from sklearn.cross_validation import train_test_split\n",
    "import pandas as pd\n",
    "import numpy as np"
   ]
  },
  {
   "cell_type": "code",
   "execution_count": 2,
   "metadata": {
    "collapsed": true
   },
   "outputs": [],
   "source": [
    "input_shape = (1521, )\n",
    "output_shape = 2"
   ]
  },
  {
   "cell_type": "code",
   "execution_count": 3,
   "metadata": {
    "collapsed": false
   },
   "outputs": [],
   "source": [
    "data = pd.read_csv('./fc_data.csv', header = None)"
   ]
  },
  {
   "cell_type": "code",
   "execution_count": 4,
   "metadata": {
    "collapsed": true
   },
   "outputs": [],
   "source": [
    "train, test = train_test_split(data, train_size=0.9, random_state=0)\n",
    "x_train, x_test = train.iloc[:,1:].values, test.iloc[:,1:].values\n",
    "y_test = np_utils.to_categorical(test.iloc[:,0].values)"
   ]
  },
  {
   "cell_type": "code",
   "execution_count": 5,
   "metadata": {
    "collapsed": false
   },
   "outputs": [],
   "source": [
    "x_train = x_train.reshape(x_train.shape[0], 39, 39, 1)\n",
    "x_test = x_test.reshape(x_test.shape[0], 39, 39, 1)"
   ]
  },
  {
   "cell_type": "code",
   "execution_count": 6,
   "metadata": {
    "collapsed": true
   },
   "outputs": [],
   "source": [
    "from keras.layers.convolutional import Deconvolution3D, Conv3DTranspose, UpSampling2D, Deconvolution2D"
   ]
  },
  {
   "cell_type": "code",
   "execution_count": 7,
   "metadata": {
    "collapsed": false
   },
   "outputs": [
    {
     "name": "stderr",
     "output_type": "stream",
     "text": [
      "C:\\Program Files\\Anaconda3\\envs\\venv\\lib\\site-packages\\ipykernel\\__main__.py:3: UserWarning: Update your `Conv2D` call to the Keras 2 API: `Conv2D(64, (6, 6), padding=\"valid\", activation=\"relu\")`\n",
      "  app.launch_new_instance()\n",
      "C:\\Program Files\\Anaconda3\\envs\\venv\\lib\\site-packages\\ipykernel\\__main__.py:4: UserWarning: Update your `Conv2D` call to the Keras 2 API: `Conv2D(64, (6, 6), padding=\"valid\", activation=\"relu\")`\n",
      "C:\\Program Files\\Anaconda3\\envs\\venv\\lib\\site-packages\\ipykernel\\__main__.py:5: UserWarning: Update your `Conv2D` call to the Keras 2 API: `Conv2D(64, (6, 6), padding=\"valid\", activation=\"relu\")`\n",
      "C:\\Program Files\\Anaconda3\\envs\\venv\\lib\\site-packages\\ipykernel\\__main__.py:38: UserWarning: Update your `Conv2D` call to the Keras 2 API: `Conv2D(1, (1, 1), padding=\"valid\", activation=\"sigmoid\")`\n"
     ]
    }
   ],
   "source": [
    "x = Input(shape=(39, 39, 1))\n",
    "\n",
    "conv1 = (Convolution2D(64, 6, 6, border_mode='valid', activation='relu'))(x)\n",
    "conv2 = (Convolution2D(64, 6, 6, border_mode='valid', activation='relu'))(conv1)\n",
    "conv3 = (Convolution2D(64, 6, 6, border_mode='valid', activation='relu'))(conv2)\n",
    "maxpool = (MaxPooling2D(pool_size=(2, 2)))(conv3)\n",
    "\n",
    "flat = (Flatten())(maxpool)\n",
    "dense = (Dense(100))(flat)\n",
    "\n",
    "hidden = Dense(2, activation='relu')(dense)\n",
    "\n",
    "z_mean = Dense(output_shape)(hidden)\n",
    "z_log_var = Dense(output_shape)(hidden)\n",
    "\n",
    "def sampling(args):\n",
    "    z_mean, z_log_var = args\n",
    "    epsilon = K.random_normal(shape=(K.shape(z_mean)[0], output_shape),\n",
    "                              mean=0., stddev=1.0)\n",
    "    return z_mean + K.exp(z_log_var) * epsilon\n",
    "\n",
    "z = Lambda(sampling, output_shape=(output_shape,))([z_mean, z_log_var])\n",
    "\n",
    "# Decoder\n",
    "decoder_d1 = Dense(100, activation='relu')\n",
    "decoder_d2 = Dense(12 * 12 * 64, activation='relu')\n",
    "\n",
    "\n",
    "h_decoded = decoder_d1(z)\n",
    "h_decoded = decoder_d2(h_decoded)\n",
    "reshape2 = Reshape((12, 12, 64))(h_decoded)\n",
    "\n",
    "decoder_up_sampling = (UpSampling2D((2, 2)))(reshape2)\n",
    "decoder_deconv1 = (Deconvolution2D(64, (6, 6), strides=(1, 1), padding='valid', activation='relu'))(decoder_up_sampling) \n",
    "decoder_deconv2 = (Deconvolution2D(64, (6, 6), strides=(1, 1), padding='valid', activation='relu'))(decoder_deconv1) \n",
    "decoder_deconv3 = (Deconvolution2D(64, (6, 6), strides=(1, 1), padding='valid', activation='relu'))(decoder_deconv2) \n",
    "\n",
    "decoder_mean_squash = (Convolution2D(1, 1, 1, border_mode='valid', activation='sigmoid'))(decoder_deconv3)"
   ]
  },
  {
   "cell_type": "code",
   "execution_count": 8,
   "metadata": {
    "collapsed": true
   },
   "outputs": [],
   "source": [
    "def vae_loss(x, decoder_mean_squash):\n",
    "    xent_loss = objectives.binary_crossentropy(x, decoder_mean_squash)\n",
    "    kl_loss = - 0.5 * K.mean(1 + z_log_var - K.square(z_mean) - K.exp(z_log_var), axis=-1)\n",
    "    return xent_loss + kl_loss"
   ]
  },
  {
   "cell_type": "code",
   "execution_count": 9,
   "metadata": {
    "collapsed": false,
    "scrolled": true
   },
   "outputs": [
    {
     "name": "stdout",
     "output_type": "stream",
     "text": [
      "____________________________________________________________________________________________________\n",
      "Layer (type)                     Output Shape          Param #     Connected to                     \n",
      "====================================================================================================\n",
      "input_1 (InputLayer)             (None, 39, 39, 1)     0                                            \n",
      "____________________________________________________________________________________________________\n",
      "conv2d_1 (Conv2D)                (None, 34, 34, 64)    2368        input_1[0][0]                    \n",
      "____________________________________________________________________________________________________\n",
      "conv2d_2 (Conv2D)                (None, 29, 29, 64)    147520      conv2d_1[0][0]                   \n",
      "____________________________________________________________________________________________________\n",
      "conv2d_3 (Conv2D)                (None, 24, 24, 64)    147520      conv2d_2[0][0]                   \n",
      "____________________________________________________________________________________________________\n",
      "max_pooling2d_1 (MaxPooling2D)   (None, 12, 12, 64)    0           conv2d_3[0][0]                   \n",
      "____________________________________________________________________________________________________\n",
      "flatten_1 (Flatten)              (None, 9216)          0           max_pooling2d_1[0][0]            \n",
      "____________________________________________________________________________________________________\n",
      "dense_1 (Dense)                  (None, 100)           921700      flatten_1[0][0]                  \n",
      "____________________________________________________________________________________________________\n",
      "dense_2 (Dense)                  (None, 2)             202         dense_1[0][0]                    \n",
      "____________________________________________________________________________________________________\n",
      "dense_3 (Dense)                  (None, 2)             6           dense_2[0][0]                    \n",
      "____________________________________________________________________________________________________\n",
      "dense_4 (Dense)                  (None, 2)             6           dense_2[0][0]                    \n",
      "____________________________________________________________________________________________________\n",
      "lambda_1 (Lambda)                (None, 2)             0           dense_3[0][0]                    \n",
      "                                                                   dense_4[0][0]                    \n",
      "____________________________________________________________________________________________________\n",
      "dense_5 (Dense)                  (None, 100)           300         lambda_1[0][0]                   \n",
      "____________________________________________________________________________________________________\n",
      "dense_6 (Dense)                  (None, 9216)          930816      dense_5[0][0]                    \n",
      "____________________________________________________________________________________________________\n",
      "reshape_1 (Reshape)              (None, 12, 12, 64)    0           dense_6[0][0]                    \n",
      "____________________________________________________________________________________________________\n",
      "up_sampling2d_1 (UpSampling2D)   (None, 24, 24, 64)    0           reshape_1[0][0]                  \n",
      "____________________________________________________________________________________________________\n",
      "conv2d_transpose_1 (Conv2DTransp (None, 29, 29, 64)    147520      up_sampling2d_1[0][0]            \n",
      "____________________________________________________________________________________________________\n",
      "conv2d_transpose_2 (Conv2DTransp (None, 34, 34, 64)    147520      conv2d_transpose_1[0][0]         \n",
      "____________________________________________________________________________________________________\n",
      "conv2d_transpose_3 (Conv2DTransp (None, 39, 39, 64)    147520      conv2d_transpose_2[0][0]         \n",
      "____________________________________________________________________________________________________\n",
      "conv2d_4 (Conv2D)                (None, 39, 39, 1)     65          conv2d_transpose_3[0][0]         \n",
      "====================================================================================================\n",
      "Total params: 2,593,063\n",
      "Trainable params: 2,593,063\n",
      "Non-trainable params: 0\n",
      "____________________________________________________________________________________________________\n"
     ]
    }
   ],
   "source": [
    "vae = Model(x, decoder_mean_squash)\n",
    "vae.summary()"
   ]
  },
  {
   "cell_type": "code",
   "execution_count": 10,
   "metadata": {
    "collapsed": false
   },
   "outputs": [],
   "source": [
    "from keras import objectives\n",
    "vae.compile(optimizer='rmsprop', loss=vae_loss)"
   ]
  },
  {
   "cell_type": "code",
   "execution_count": 11,
   "metadata": {
    "collapsed": false,
    "scrolled": true
   },
   "outputs": [
    {
     "name": "stdout",
     "output_type": "stream",
     "text": [
      "Train on 931 samples, validate on 104 samples\n",
      "Epoch 1/20\n",
      "931/931 [==============================] - 15s - loss: 6320510903.9454 - val_loss: 0.5226\n",
      "Epoch 2/20\n",
      "931/931 [==============================] - 11s - loss: 0.5249 - val_loss: 0.5196\n",
      "Epoch 3/20\n",
      "931/931 [==============================] - 11s - loss: 0.5241 - val_loss: 0.5190\n",
      "Epoch 4/20\n",
      "931/931 [==============================] - 11s - loss: 0.5236 - val_loss: 0.5190\n",
      "Epoch 5/20\n",
      "931/931 [==============================] - 11s - loss: 0.5231 - val_loss: 0.5190\n",
      "Epoch 6/20\n",
      "931/931 [==============================] - 11s - loss: 0.5231 - val_loss: 0.5191\n",
      "Epoch 7/20\n",
      "931/931 [==============================] - 11s - loss: 0.5228 - val_loss: 0.5214\n",
      "Epoch 8/20\n",
      "931/931 [==============================] - 11s - loss: 0.5228 - val_loss: 0.5187\n",
      "Epoch 9/20\n",
      "931/931 [==============================] - 12s - loss: 0.5228 - val_loss: 0.5186\n",
      "Epoch 10/20\n",
      "931/931 [==============================] - 12s - loss: 0.5227 - val_loss: 0.5189\n",
      "Epoch 11/20\n",
      "931/931 [==============================] - 11s - loss: 0.5226 - val_loss: 0.5187\n",
      "Epoch 12/20\n",
      "931/931 [==============================] - 12s - loss: 0.5225 - val_loss: 0.5191\n",
      "Epoch 13/20\n",
      "931/931 [==============================] - 11s - loss: 0.5227 - val_loss: 0.5188\n",
      "Epoch 14/20\n",
      "931/931 [==============================] - 11s - loss: 0.5225 - val_loss: 0.5193\n",
      "Epoch 15/20\n",
      "931/931 [==============================] - 11s - loss: 0.5223 - val_loss: 0.5189\n",
      "Epoch 16/20\n",
      "931/931 [==============================] - 11s - loss: 0.5225 - val_loss: 0.5187\n",
      "Epoch 17/20\n",
      "931/931 [==============================] - 11s - loss: 0.5224 - val_loss: 0.5192\n",
      "Epoch 18/20\n",
      "931/931 [==============================] - 11s - loss: 0.5221 - val_loss: 0.5194\n",
      "Epoch 19/20\n",
      "931/931 [==============================] - 10s - loss: 0.5225 - val_loss: 0.5187\n",
      "Epoch 20/20\n",
      "931/931 [==============================] - 11s - loss: 0.5226 - val_loss: 0.5192\n"
     ]
    },
    {
     "data": {
      "text/plain": [
       "<keras.callbacks.History at 0x26b6c1dfcc0>"
      ]
     },
     "execution_count": 11,
     "metadata": {},
     "output_type": "execute_result"
    }
   ],
   "source": [
    "vae.fit(x_train, x_train,\n",
    "        shuffle=True,\n",
    "        epochs=20,\n",
    "        batch_size=1,\n",
    "        verbose=1,\n",
    "        validation_data=(x_test, x_test))"
   ]
  },
  {
   "cell_type": "code",
   "execution_count": 12,
   "metadata": {
    "collapsed": false
   },
   "outputs": [],
   "source": [
    "encoder = Model(x, z)"
   ]
  },
  {
   "cell_type": "code",
   "execution_count": 13,
   "metadata": {
    "collapsed": false
   },
   "outputs": [],
   "source": [
    "x_test_encoded = encoder.predict(x_test, batch_size=1)"
   ]
  },
  {
   "cell_type": "code",
   "execution_count": 14,
   "metadata": {
    "collapsed": false,
    "scrolled": true
   },
   "outputs": [
    {
     "name": "stdout",
     "output_type": "stream",
     "text": [
      "[-0.43363351  1.19964111 -0.9160493   1.1081742   0.17250142 -0.94149667\n",
      "  0.31722602 -0.12207921  1.90110183  0.85985285 -1.54846823 -0.98824632\n",
      "  0.5077523  -1.44208515  0.91308177 -0.09222503  0.67527092 -0.73959923\n",
      "  0.44711605 -1.38738132 -0.09738521  0.18318111 -0.33776477 -1.33484781\n",
      "  0.31200218  0.90025508 -0.18448095 -1.74646461  2.05672431  0.91543454\n",
      "  1.89238906  1.66560864  0.98014277  0.30315989  1.14258265  0.50637567\n",
      "  0.32657483  0.76443559  2.13107467 -0.80123663  0.09644634 -0.97646874\n",
      " -1.07922411  0.89986825 -1.16547251 -2.42493844  0.66004777  0.72461516\n",
      "  0.138925    1.81024384 -0.43372211  1.78983736 -1.90982091  0.28881821\n",
      " -1.15567398 -0.26838577 -0.09330711  0.20904881 -0.78265417 -0.41258594\n",
      "  3.68106532 -0.08534294  0.95584112 -0.80937552 -0.76581383 -0.84695053\n",
      " -1.89715767  1.02426887 -0.04186418 -0.67071557  0.18061431 -0.14269441\n",
      "  2.88306284 -0.28570157  0.09417849 -0.90315729  0.14649133 -0.6341151\n",
      "  0.47307175  1.08173752  0.60469258 -1.63215721  1.48465157 -0.18918625\n",
      "  1.69184852  0.70871592  0.44777358 -0.32510415 -0.48772812 -0.14599876\n",
      " -0.56644052  0.02026088 -0.78793186 -1.85164773  1.04184294  1.22696519\n",
      "  0.32640481 -1.44607329  1.47263634  0.84321648  0.45478672 -0.1209335\n",
      "  0.24881607 -0.32278261]\n",
      "[ -1.21225512e+00   8.50218713e-01  -2.51304153e-02  -1.23024359e-01\n",
      "   2.82272458e-01  -2.32672229e-01   2.12642694e+00   2.97576874e-01\n",
      "  -1.53521866e-01   9.17527676e-01  -3.62243772e-01   2.15821534e-01\n",
      "   3.56435359e-01  -1.34946108e-01   1.84088278e+00   2.35154971e-01\n",
      "  -3.25655588e-03  -6.12878084e-01   2.42187047e+00  -7.96101570e-01\n",
      "   4.64303374e-01  -2.71844238e-01  -1.34504929e-01   1.16774812e-01\n",
      "  -5.75380206e-01   9.22593594e-01   7.33447611e-01  -6.25351906e-01\n",
      "  -7.03684017e-02  -8.46920431e-01   1.43334842e+00  -8.34390044e-01\n",
      "  -1.63609758e-01  -9.00980771e-01   1.69225350e-01   5.04173756e-01\n",
      "  -7.87470758e-01   1.23810112e-01   2.03369185e-01  -4.92797434e-01\n",
      "  -7.59710908e-01   4.76273239e-01  -4.32996117e-02   3.62081289e-01\n",
      "   6.78534687e-01  -1.30049431e+00   2.05716048e-03  -1.08783472e+00\n",
      "   4.11122292e-01  -6.13582432e-01  -1.26448767e-02  -1.12931430e+00\n",
      "   3.07718694e-01  -1.65593922e+00   1.31376696e+00   4.39126194e-01\n",
      "   5.49088001e-01   2.19120309e-01   2.28876546e-01  -1.74911988e+00\n",
      "  -9.00106311e-01  -1.22790456e+00  -1.10737097e+00   1.10777035e-01\n",
      "   6.40420839e-02  -7.92156458e-01   2.32442945e-01  -1.54573619e-01\n",
      "   6.14586532e-01  -7.88696408e-01  -5.77489793e-01   7.15219676e-02\n",
      "   1.55953348e+00   5.44153214e-01   1.60599041e+00   1.09281433e+00\n",
      "   2.56051278e+00  -7.80089796e-01   3.89199227e-01   9.73410308e-01\n",
      "  -1.34956300e+00   6.01596944e-02  -1.74947190e+00   1.21202111e+00\n",
      "   1.04053283e+00   9.49903727e-01   8.82018030e-01   7.12896049e-01\n",
      "  -9.10348952e-01   5.46771884e-01   1.09456623e+00  -1.17379701e+00\n",
      "  -1.07721865e+00  -7.87512541e-01   1.60722804e+00  -4.22168560e-02\n",
      "   8.86308789e-01   2.54035091e+00  -1.35004401e+00   1.19453216e+00\n",
      "  -2.45758474e-01  -1.34135783e-01  -3.53045672e-01  -7.00087845e-01]\n"
     ]
    }
   ],
   "source": [
    "print (x_test_encoded[:, 0])\n",
    "print (x_test_encoded[:, 1])"
   ]
  },
  {
   "cell_type": "code",
   "execution_count": 16,
   "metadata": {
    "collapsed": false,
    "scrolled": true
   },
   "outputs": [
    {
     "data": {
      "image/png": "[encoded data removed]",
      "text/plain": [
       "<matplotlib.figure.Figure at 0x26bac267be0>"
      ]
     },
     "metadata": {},
     "output_type": "display_data"
    }
   ],
   "source": [
    "N = 104\n",
    "colors = np.random.rand(N)\n",
    "area = np.pi * (15 * np.random.rand(N))**2  # 0 to 15 point radii\n",
    "\n",
    "plt.scatter(x_test_encoded[:, 0], x_test_encoded[:, 0], s=area, c=colors, alpha=0.5)\n",
    "plt.scatter(x_test_encoded[:, 0], x_test_encoded[:, 1], s=area, c=colors, alpha=0.5)\n",
    "plt.show()"
   ]
  },
  {
   "cell_type": "code",
   "execution_count": null,
   "metadata": {
    "collapsed": true
   },
   "outputs": [],
   "source": []
  },
  {
   "cell_type": "code",
   "execution_count": null,
   "metadata": {
    "collapsed": true
   },
   "outputs": [],
   "source": []
  }
 ],
 "metadata": {
  "anaconda-cloud": {},
  "kernelspec": {
   "display_name": "Python [conda env:venv]",
   "language": "python",
   "name": "conda-env-venv-py"
  },
  "language_info": {
   "codemirror_mode": {
    "name": "ipython",
    "version": 3
   },
   "file_extension": ".py",
   "mimetype": "text/x-python",
   "name": "python",
   "nbconvert_exporter": "python",
   "pygments_lexer": "ipython3",
   "version": "3.5.3"
  }
 },
 "nbformat": 4,
 "nbformat_minor": 1
}
