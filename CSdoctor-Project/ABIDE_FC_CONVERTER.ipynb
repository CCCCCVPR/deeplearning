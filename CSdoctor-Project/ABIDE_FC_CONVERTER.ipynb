{
 "cells": [
  {
   "cell_type": "code",
   "execution_count": null,
   "metadata": {
    "collapsed": true
   },
   "outputs": [],
   "source": [
    "from nilearn.datasets.func import fetch_abide_pcp\n",
    "\n",
    "abide = fetch_abide_pcp(data_dir='E:/abide_data', n_subjects=None, quality_checked=True,\n",
    "                        band_pass_filtering=True, pipeline='cpac',\n",
    "                        derivatives='rois_aal')\n",
    "# derivatives = rois_aal, rois_cc200, rois_cc400, rois_dosenbach160, rois_ez, rois_ho, rois_tt 중 하나\n",
    "\n",
    "abide.keys()\n",
    "\n",
    "from nilearn.connectome import ConnectivityMeasure\n",
    "\n",
    "conn_est = ConnectivityMeasure(kind='partial correlation')\n",
    "conn_matrices = conn_est.fit_transform(abide.rois_aal)\n",
    "conn_matrices.shape\n",
    "\n",
    "data = []\n",
    "for i in range(871):\n",
    "    data_temp = []\n",
    "    \n",
    "    temp = conn_matrices[i]\n",
    "    temp = temp.reshape(temp.shape[1] * temp.shape[1])\n",
    "    a = 1 \n",
    "    \n",
    "    data_temp.append(int(a))\n",
    "    data_temp.extend(temp)\n",
    "    data.append(data_temp)\n",
    "    \n",
    "import pandas as pd\n",
    "import numpy as np\n",
    "\n",
    "dataset = pd.DataFrame(np.asarray(data))\n",
    "dataset.to_csv('./abide_fc_data_ez.csv', index=False, header=False)   "
   ]
  },
  {
   "cell_type": "code",
   "execution_count": 55,
   "metadata": {
    "collapsed": false,
    "scrolled": true
   },
   "outputs": [
    {
     "data": {
      "text/plain": [
       "dict_keys(['rois_tt', 'phenotypic', 'description'])"
      ]
     },
     "execution_count": 55,
     "metadata": {},
     "output_type": "execute_result"
    }
   ],
   "source": [
    "from nilearn.datasets.func import fetch_abide_pcp\n",
    "\n",
    "\n",
    "abide = fetch_abide_pcp(data_dir='E:/abide_data', n_subjects=None, quality_checked=True,\n",
    "                        band_pass_filtering=True, pipeline='cpac',\n",
    "                        derivatives='rois_tt')\n",
    "# derivatives = rois_aal, rois_cc200, rois_cc400, rois_dosenbach160, rois_ez, rois_ho, rois_tt 중 하나\n",
    "\n",
    "abide.keys()"
   ]
  },
  {
   "cell_type": "code",
   "execution_count": 56,
   "metadata": {
    "collapsed": false
   },
   "outputs": [
    {
     "data": {
      "text/plain": [
       "(871, 97, 97)"
      ]
     },
     "execution_count": 56,
     "metadata": {},
     "output_type": "execute_result"
    }
   ],
   "source": [
    "from nilearn.connectome import ConnectivityMeasure\n",
    "\n",
    "conn_est = ConnectivityMeasure(kind='partial correlation')\n",
    "conn_matrices = conn_est.fit_transform(abide.rois_tt)\n",
    "conn_matrices.shape"
   ]
  },
  {
   "cell_type": "code",
   "execution_count": 57,
   "metadata": {
    "collapsed": false
   },
   "outputs": [],
   "source": [
    "data = []\n",
    "for i in range(871):\n",
    "    data_temp = []\n",
    "    \n",
    "    temp = conn_matrices[i]\n",
    "    temp = temp.reshape(temp.shape[1] * temp.shape[1])\n",
    "    a = 1\n",
    "    \n",
    "    data_temp.append(int(a))\n",
    "    data_temp.extend(temp)\n",
    "    data.append(data_temp)"
   ]
  },
  {
   "cell_type": "code",
   "execution_count": 58,
   "metadata": {
    "collapsed": false
   },
   "outputs": [],
   "source": [
    "import pandas as pd\n",
    "import numpy as np\n",
    "\n",
    "dataset = pd.DataFrame(np.asarray(data))\n",
    "dataset.to_csv('./abide_fc_data_tt.csv', index=False, header=False)"
   ]
  },
  {
   "cell_type": "code",
   "execution_count": 59,
   "metadata": {
    "collapsed": false,
    "scrolled": true
   },
   "outputs": [],
   "source": [
    "abide = fetch_abide_pcp(data_dir='E:/abide_data', n_subjects=None, quality_checked=True,\n",
    "                        band_pass_filtering=True, pipeline='cpac',\n",
    "                        derivatives='rois_ez')\n",
    "# derivatives = rois_aal, rois_cc200, rois_cc400, rois_dosenbach160, rois_ez, rois_ho, rois_tt 중 하나\n",
    "\n",
    "abide.keys()\n",
    "\n",
    "from nilearn.connectome import ConnectivityMeasure\n",
    "\n",
    "conn_est = ConnectivityMeasure(kind='partial correlation')\n",
    "conn_matrices = conn_est.fit_transform(abide.rois_ez)\n",
    "conn_matrices.shape\n",
    "\n",
    "data = []\n",
    "for i in range(871):\n",
    "    data_temp = []\n",
    "    \n",
    "    temp = conn_matrices[i]\n",
    "    temp = temp.reshape(temp.shape[1] * temp.shape[1])\n",
    "    a = 1 \n",
    "    \n",
    "    data_temp.append(int(a))\n",
    "    data_temp.extend(temp)\n",
    "    data.append(data_temp)\n",
    "    \n",
    "import pandas as pd\n",
    "import numpy as np\n",
    "\n",
    "dataset = pd.DataFrame(np.asarray(data))\n",
    "dataset.to_csv('./abide_fc_data_ez.csv', index=False, header=False)   "
   ]
  },
  {
   "cell_type": "code",
   "execution_count": 60,
   "metadata": {
    "collapsed": false
   },
   "outputs": [],
   "source": [
    "abide = fetch_abide_pcp(data_dir='E:/abide_data', n_subjects=None, quality_checked=True,\n",
    "                        band_pass_filtering=True, pipeline='cpac',\n",
    "                        derivatives='rois_ho')\n",
    "# derivatives = rois_aal, rois_cc200, rois_cc400, rois_dosenbach160, rois_ez, rois_ho, rois_tt 중 하나\n",
    "\n",
    "abide.keys()\n",
    "\n",
    "from nilearn.connectome import ConnectivityMeasure\n",
    "\n",
    "conn_est = ConnectivityMeasure(kind='partial correlation')\n",
    "conn_matrices = conn_est.fit_transform(abide.rois_ho)\n",
    "conn_matrices.shape\n",
    "\n",
    "data = []\n",
    "for i in range(871):\n",
    "    data_temp = []\n",
    "    \n",
    "    temp = conn_matrices[i]\n",
    "    temp = temp.reshape(temp.shape[1] * temp.shape[1])\n",
    "    a = 1 \n",
    "    \n",
    "    data_temp.append(int(a))\n",
    "    data_temp.extend(temp)\n",
    "    data.append(data_temp)\n",
    "    \n",
    "import pandas as pd\n",
    "import numpy as np\n",
    "\n",
    "dataset = pd.DataFrame(np.asarray(data))\n",
    "dataset.to_csv('./abide_fc_data_ho.csv', index=False, header=False)   "
   ]
  },
  {
   "cell_type": "code",
   "execution_count": 61,
   "metadata": {
    "collapsed": false
   },
   "outputs": [],
   "source": [
    "abide = fetch_abide_pcp(data_dir='E:/abide_data', n_subjects=None, quality_checked=True,\n",
    "                        band_pass_filtering=True, pipeline='cpac',\n",
    "                        derivatives='rois_dosenbach160')\n",
    "# derivatives = rois_aal, rois_cc200, rois_cc400, rois_dosenbach160, rois_ez, rois_ho, rois_tt 중 하나\n",
    "\n",
    "abide.keys()\n",
    "\n",
    "from nilearn.connectome import ConnectivityMeasure\n",
    "\n",
    "conn_est = ConnectivityMeasure(kind='partial correlation')\n",
    "conn_matrices = conn_est.fit_transform(abide.rois_dosenbach160)\n",
    "conn_matrices.shape\n",
    "\n",
    "data = []\n",
    "for i in range(871):\n",
    "    data_temp = []\n",
    "    \n",
    "    temp = conn_matrices[i]\n",
    "    temp = temp.reshape(temp.shape[1] * temp.shape[1])\n",
    "    a = 1 \n",
    "    \n",
    "    data_temp.append(int(a))\n",
    "    data_temp.extend(temp)\n",
    "    data.append(data_temp)\n",
    "    \n",
    "import pandas as pd\n",
    "import numpy as np\n",
    "\n",
    "dataset = pd.DataFrame(np.asarray(data))\n",
    "dataset.to_csv('./abide_fc_data_dosen.csv', index=False, header=False)   "
   ]
  },
  {
   "cell_type": "code",
   "execution_count": 62,
   "metadata": {
    "collapsed": false
   },
   "outputs": [],
   "source": [
    "abide = fetch_abide_pcp(data_dir='E:/abide_data', n_subjects=None, quality_checked=True,\n",
    "                        band_pass_filtering=True, pipeline='cpac',\n",
    "                        derivatives='rois_cc200')\n",
    "# derivatives = rois_aal, rois_cc200, rois_cc400, rois_dosenbach160, rois_ez, rois_ho, rois_tt 중 하나\n",
    "\n",
    "abide.keys()\n",
    "\n",
    "from nilearn.connectome import ConnectivityMeasure\n",
    "\n",
    "conn_est = ConnectivityMeasure(kind='partial correlation')\n",
    "conn_matrices = conn_est.fit_transform(abide.rois_cc200)\n",
    "conn_matrices.shape\n",
    "\n",
    "data = []\n",
    "for i in range(871):\n",
    "    data_temp = []\n",
    "    \n",
    "    temp = conn_matrices[i]\n",
    "    temp = temp.reshape(temp.shape[1] * temp.shape[1])\n",
    "    a = 1 \n",
    "    \n",
    "    data_temp.append(int(a))\n",
    "    data_temp.extend(temp)\n",
    "    data.append(data_temp)\n",
    "    \n",
    "import pandas as pd\n",
    "import numpy as np\n",
    "\n",
    "dataset = pd.DataFrame(np.asarray(data))\n",
    "dataset.to_csv('./abide_fc_data_200.csv', index=False, header=False)   "
   ]
  },
  {
   "cell_type": "code",
   "execution_count": 64,
   "metadata": {
    "collapsed": false
   },
   "outputs": [],
   "source": [
    "abide = fetch_abide_pcp(data_dir='E:/abide_data', n_subjects=None, quality_checked=True,\n",
    "                        band_pass_filtering=True, pipeline='cpac',\n",
    "                        derivatives='rois_cc400')\n",
    "# derivatives = rois_aal, rois_cc200, rois_cc400, rois_dosenbach160, rois_ez, rois_ho, rois_tt 중 하나\n",
    "\n",
    "abide.keys()\n",
    "\n",
    "from nilearn.connectome import ConnectivityMeasure\n",
    "\n",
    "conn_est = ConnectivityMeasure(kind='partial correlation')\n",
    "conn_matrices = conn_est.fit_transform(abide.rois_cc400)\n",
    "conn_matrices.shape\n",
    "\n",
    "data = []\n",
    "for i in range(871):\n",
    "    data_temp = []\n",
    "    \n",
    "    temp = conn_matrices[i]\n",
    "    temp = temp.reshape(temp.shape[1] * temp.shape[1])\n",
    "    a = 1 \n",
    "    \n",
    "    data_temp.append(int(a))\n",
    "    data_temp.extend(temp)\n",
    "    data.append(data_temp)\n",
    "    \n",
    "import pandas as pd\n",
    "import numpy as np\n",
    "\n",
    "dataset = pd.DataFrame(np.asarray(data))\n",
    "dataset.to_csv('./abide_fc_data_400.csv', index=False, header=False)   "
   ]
  },
  {
   "cell_type": "code",
   "execution_count": null,
   "metadata": {
    "collapsed": false,
    "scrolled": true
   },
   "outputs": [],
   "source": [
    "%matplotlib inline\n",
    "import matplotlib.pyplot as plt\n",
    "\n",
    "plt.figure(figsize=(15, 15))\n",
    "plt.imshow(conn_matrices[10], vmin=-1., vmax=1., cmap='RdBu_r')\n",
    "\n",
    "plt.figure(figsize=(15, 15))\n",
    "plt.imshow(conn_matrices[36], vmin=-1., vmax=1., cmap='RdBu_r')"
   ]
  },
  {
   "cell_type": "code",
   "execution_count": null,
   "metadata": {
    "collapsed": true
   },
   "outputs": [],
   "source": []
  },
  {
   "cell_type": "code",
   "execution_count": null,
   "metadata": {
    "collapsed": true
   },
   "outputs": [],
   "source": []
  },
  {
   "cell_type": "code",
   "execution_count": null,
   "metadata": {
    "collapsed": true
   },
   "outputs": [],
   "source": []
  }
 ],
 "metadata": {
  "anaconda-cloud": {},
  "kernelspec": {
   "display_name": "Python [conda env:venv]",
   "language": "python",
   "name": "conda-env-venv-py"
  },
  "language_info": {
   "codemirror_mode": {
    "name": "ipython",
    "version": 3
   },
   "file_extension": ".py",
   "mimetype": "text/x-python",
   "name": "python",
   "nbconvert_exporter": "python",
   "pygments_lexer": "ipython3",
   "version": "3.5.3"
  }
 },
 "nbformat": 4,
 "nbformat_minor": 1
}
